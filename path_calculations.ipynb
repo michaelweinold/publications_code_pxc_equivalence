{
 "cells": [
  {
   "cell_type": "markdown",
   "metadata": {},
   "source": [
    "# Performance Investigation of Hybrid Life-Cycle Assessment Path Calculations\n",
    "\n",
    "This notebook is available online in this Zenodo Record: [`doi:10.5281/zenodo.14786979`](https://doi.org/10.5281/zenodo.14786979)"
   ]
  },
  {
   "cell_type": "code",
   "execution_count": 18,
   "metadata": {},
   "outputs": [],
   "source": [
    "# scientific computing\n",
    "import pandas as pd\n",
    "# structural path analysis\n",
    "import pyspa\n",
    "# system\n",
    "import time"
   ]
  },
  {
   "cell_type": "markdown",
   "metadata": {},
   "source": [
    "## Load Sectoral Data"
   ]
  },
  {
   "cell_type": "code",
   "execution_count": 19,
   "metadata": {},
   "outputs": [
    {
     "data": {
      "text/html": [
       "<div>\n",
       "<style scoped>\n",
       "    .dataframe tbody tr th:only-of-type {\n",
       "        vertical-align: middle;\n",
       "    }\n",
       "\n",
       "    .dataframe tbody tr th {\n",
       "        vertical-align: top;\n",
       "    }\n",
       "\n",
       "    .dataframe thead th {\n",
       "        text-align: right;\n",
       "    }\n",
       "</style>\n",
       "<table border=\"1\" class=\"dataframe\">\n",
       "  <thead>\n",
       "    <tr style=\"text-align: right;\">\n",
       "      <th></th>\n",
       "      <th>Sector number</th>\n",
       "      <th>Name</th>\n",
       "    </tr>\n",
       "  </thead>\n",
       "  <tbody>\n",
       "    <tr>\n",
       "      <th>0</th>\n",
       "      <td>1</td>\n",
       "      <td>Sheep, Grains, Beef and Dairy Cattle</td>\n",
       "    </tr>\n",
       "    <tr>\n",
       "      <th>1</th>\n",
       "      <td>2</td>\n",
       "      <td>Poultry and Other Livestock</td>\n",
       "    </tr>\n",
       "    <tr>\n",
       "      <th>2</th>\n",
       "      <td>3</td>\n",
       "      <td>Other Agriculture</td>\n",
       "    </tr>\n",
       "    <tr>\n",
       "      <th>3</th>\n",
       "      <td>4</td>\n",
       "      <td>Aquaculture</td>\n",
       "    </tr>\n",
       "    <tr>\n",
       "      <th>4</th>\n",
       "      <td>5</td>\n",
       "      <td>Forestry and Logging</td>\n",
       "    </tr>\n",
       "    <tr>\n",
       "      <th>...</th>\n",
       "      <td>...</td>\n",
       "      <td>...</td>\n",
       "    </tr>\n",
       "    <tr>\n",
       "      <th>109</th>\n",
       "      <td>110</td>\n",
       "      <td>Gambling</td>\n",
       "    </tr>\n",
       "    <tr>\n",
       "      <th>110</th>\n",
       "      <td>111</td>\n",
       "      <td>Automotive Repair and Maintenance</td>\n",
       "    </tr>\n",
       "    <tr>\n",
       "      <th>111</th>\n",
       "      <td>112</td>\n",
       "      <td>Other Repair and Maintenance</td>\n",
       "    </tr>\n",
       "    <tr>\n",
       "      <th>112</th>\n",
       "      <td>113</td>\n",
       "      <td>Personal Services</td>\n",
       "    </tr>\n",
       "    <tr>\n",
       "      <th>113</th>\n",
       "      <td>114</td>\n",
       "      <td>Other Services</td>\n",
       "    </tr>\n",
       "  </tbody>\n",
       "</table>\n",
       "<p>114 rows × 2 columns</p>\n",
       "</div>"
      ],
      "text/plain": [
       "     Sector number                                  Name\n",
       "0                1  Sheep, Grains, Beef and Dairy Cattle\n",
       "1                2           Poultry and Other Livestock\n",
       "2                3                     Other Agriculture\n",
       "3                4                           Aquaculture\n",
       "4                5                  Forestry and Logging\n",
       "..             ...                                   ...\n",
       "109            110                              Gambling\n",
       "110            111     Automotive Repair and Maintenance\n",
       "111            112          Other Repair and Maintenance\n",
       "112            113                     Personal Services\n",
       "113            114                        Other Services\n",
       "\n",
       "[114 rows x 2 columns]"
      ]
     },
     "execution_count": 19,
     "metadata": {},
     "output_type": "execute_result"
    }
   ],
   "source": [
    "df_infosheet = pd.read_csv(\n",
    "    filepath_or_buffer='https://raw.githubusercontent.com/hybridlca/pyspa/refs/heads/master/Infosheet_template.csv',\n",
    "    header=0,    \n",
    ")\n",
    "df_sectors: pd.DataFrame = df_infosheet[['Sector number', 'Name']]\n",
    "df_sectors"
   ]
  },
  {
   "cell_type": "markdown",
   "metadata": {},
   "source": [
    "## Calculations of Paths"
   ]
  },
  {
   "cell_type": "code",
   "execution_count": 20,
   "metadata": {},
   "outputs": [],
   "source": [
    "def run_structural_path_analysis(\n",
    "    sector_id: int,\n",
    ") -> pd.DataFrame:\n",
    "    \"\"\"\n",
    "    Run the structural path analysis for a given sector and list of cutoff values.\n",
    "\n",
    "    _extended_summary_\n",
    "\n",
    "    Parameters\n",
    "    ----------\n",
    "    sector_id : int\n",
    "        Index of the sector to be analyzed.\n",
    "    \n",
    "    Returns\n",
    "    -------\n",
    "    pd.DataFrame\n",
    "        DataFrame with the results of the structural path analysis.\n",
    "        Of the form:\n",
    "\n",
    "        | Cutoff | Computation time | SPA coverage |\n",
    "        |--------|------------------|--------------|\n",
    "        | 0.01   | 1.2              | 0.51         |\n",
    "        | 0.001  | 13.4             | 0.65         |\n",
    "        | ...    | ...              | ...          |\n",
    "\n",
    "    \"\"\"\n",
    "    list_comp_time = []\n",
    "    list_spa_coverage = []\n",
    "    for cutoff in [0.1, 0.01, 0.001, 0.0001, 0.00001]:\n",
    "        start_time = time.time()\n",
    "        sc = pyspa.get_spa(\n",
    "            target_ID=sector_id,\n",
    "            max_stage=20,\n",
    "            a_matrix='https://raw.githubusercontent.com/hybridlca/pyspa/refs/heads/master/A_matrix_template.csv',\n",
    "            infosheet='https://raw.githubusercontent.com/hybridlca/pyspa/refs/heads/master/Infosheet_template.csv',\n",
    "            thresholds={'GHG_emissions': cutoff},\n",
    "            thresholds_as_percentages=True,\n",
    "            zero_indexing=True,\n",
    "        )\n",
    "        end_time = time.time()\n",
    "        list_comp_time.append(end_time - start_time)\n",
    "        list_spa_coverage.append(sc.get_coverage_of('GHG_emissions'))\n",
    "    df_results = pd.DataFrame(\n",
    "        data={\n",
    "            'Cutoff': list_cutoff,\n",
    "            'Computation time': list_comp_time,\n",
    "            'SPA coverage': list_spa_coverage,\n",
    "        }\n",
    "    )\n",
    "    return df_results"
   ]
  },
  {
   "cell_type": "markdown",
   "metadata": {},
   "source": [
    "Before starting calculations, ensure that your local NumPy is built against a fast [BLAS library](https://en.wikipedia.org/wiki/Basic_Linear_Algebra_Subprograms) (e.g., Intel MKL, OpenBLAS, or Apple Accelerate). Note that on a 2021 MacBook Pro (M1 Max CPU) with NumPy v2.2.1 [built against Apple Accelerate](https://numpy.org/doc/2.0/release/1.21.0-notes.html#enable-accelerate-framework), the analysis of paths for a single sector may take multiple hours."
   ]
  },
  {
   "cell_type": "code",
   "execution_count": null,
   "metadata": {},
   "outputs": [],
   "source": [
    "%%capture\n",
    "import multiprocessing as mp\n",
    "with mp.get_context(\"fork\").Pool() as pool:  # \"fork\" context works better in Jupyter\n",
    "    list_results_dataframes = pool.map(run_structural_path_analysis, df_sectors.index)"
   ]
  }
 ],
 "metadata": {
  "kernelspec": {
   "display_name": "pyspa",
   "language": "python",
   "name": "python3"
  },
  "language_info": {
   "codemirror_mode": {
    "name": "ipython",
    "version": 3
   },
   "file_extension": ".py",
   "mimetype": "text/x-python",
   "name": "python",
   "nbconvert_exporter": "python",
   "pygments_lexer": "ipython3",
   "version": "3.10.13"
  }
 },
 "nbformat": 4,
 "nbformat_minor": 2
}
